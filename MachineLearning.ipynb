{
  "nbformat": 4,
  "nbformat_minor": 0,
  "metadata": {
    "colab": {
      "name": "MachineLearning",
      "provenance": []
    },
    "kernelspec": {
      "name": "python3",
      "display_name": "Python 3"
    },
    "language_info": {
      "name": "python"
    }
  },
  "cells": [
    {
      "cell_type": "markdown",
      "metadata": {
        "id": "PzOIg8GPbcaB"
      },
      "source": [
        "Building intelligent irrigation system using AI and soil, weather, crop-specific and topography data.\n",
        "\n",
        "SOIL DATA:\n",
        "\n",
        "https://www.kaggle.com/omkargurav/soil-type-classification-soilnet\n",
        "\n",
        "https://www.kaggle.com/cdminix/us-drought-meteorological-data \n",
        "\n",
        "WEATHER DATA:\n",
        "\n",
        "https://rapidapi.com/blog/access-global-weather-data-with-these-weather-apis/\n",
        "\n",
        "CROP DATA:\n",
        "\n",
        "https://www.kaggle.com/harshilpatel355/autoirrigationdata\n",
        "\n",
        "TOPOGRAPHY DATA:\n",
        "\n"
      ]
    },
    {
      "cell_type": "code",
      "metadata": {
        "id": "FDEJTI0awyD-"
      },
      "source": [
        "import pandas as pd\n",
        "import numpy as np\n",
        "import seaborn as sns\n",
        "import matplotlib.pyplot as plt\n",
        "%matplotlib inline"
      ],
      "execution_count": 1,
      "outputs": []
    },
    {
      "cell_type": "code",
      "metadata": {
        "id": "oP5hRMGM7fml"
      },
      "source": [
        "from mpl_toolkits.mplot3d import Axes3D\n",
        "from sklearn.preprocessing import StandardScaler\n",
        "import os"
      ],
      "execution_count": 7,
      "outputs": []
    },
    {
      "cell_type": "code",
      "metadata": {
        "id": "RWzgfSdWU_LL"
      },
      "source": [
        "from sklearn import datasets\n",
        "from sklearn.linear_model import LinearRegression\n",
        "from sklearn.model_selection import train_test_split, cross_val_score\n",
        "from sklearn.metrics import mean_squared_error"
      ],
      "execution_count": 2,
      "outputs": []
    },
    {
      "cell_type": "code",
      "metadata": {
        "id": "3StFOTmSVDNI",
        "colab": {
          "base_uri": "https://localhost:8080/",
          "height": 202
        },
        "outputId": "e69e392f-f9e0-4bf3-bf7e-b593fac4614d"
      },
      "source": [
        "df = pd.read_csv('data.csv')\n",
        "df.head()"
      ],
      "execution_count": 3,
      "outputs": [
        {
          "output_type": "execute_result",
          "data": {
            "text/html": [
              "<div>\n",
              "<style scoped>\n",
              "    .dataframe tbody tr th:only-of-type {\n",
              "        vertical-align: middle;\n",
              "    }\n",
              "\n",
              "    .dataframe tbody tr th {\n",
              "        vertical-align: top;\n",
              "    }\n",
              "\n",
              "    .dataframe thead th {\n",
              "        text-align: right;\n",
              "    }\n",
              "</style>\n",
              "<table border=\"1\" class=\"dataframe\">\n",
              "  <thead>\n",
              "    <tr style=\"text-align: right;\">\n",
              "      <th></th>\n",
              "      <th>crop</th>\n",
              "      <th>moisture</th>\n",
              "      <th>temp</th>\n",
              "      <th>pump</th>\n",
              "    </tr>\n",
              "  </thead>\n",
              "  <tbody>\n",
              "    <tr>\n",
              "      <th>0</th>\n",
              "      <td>cotton</td>\n",
              "      <td>638</td>\n",
              "      <td>16</td>\n",
              "      <td>1</td>\n",
              "    </tr>\n",
              "    <tr>\n",
              "      <th>1</th>\n",
              "      <td>cotton</td>\n",
              "      <td>522</td>\n",
              "      <td>18</td>\n",
              "      <td>1</td>\n",
              "    </tr>\n",
              "    <tr>\n",
              "      <th>2</th>\n",
              "      <td>cotton</td>\n",
              "      <td>741</td>\n",
              "      <td>22</td>\n",
              "      <td>1</td>\n",
              "    </tr>\n",
              "    <tr>\n",
              "      <th>3</th>\n",
              "      <td>cotton</td>\n",
              "      <td>798</td>\n",
              "      <td>32</td>\n",
              "      <td>1</td>\n",
              "    </tr>\n",
              "    <tr>\n",
              "      <th>4</th>\n",
              "      <td>cotton</td>\n",
              "      <td>690</td>\n",
              "      <td>28</td>\n",
              "      <td>1</td>\n",
              "    </tr>\n",
              "  </tbody>\n",
              "</table>\n",
              "</div>"
            ],
            "text/plain": [
              "     crop  moisture  temp  pump\n",
              "0  cotton       638    16     1\n",
              "1  cotton       522    18     1\n",
              "2  cotton       741    22     1\n",
              "3  cotton       798    32     1\n",
              "4  cotton       690    28     1"
            ]
          },
          "metadata": {},
          "execution_count": 3
        }
      ]
    },
    {
      "cell_type": "markdown",
      "metadata": {
        "id": "GHNsoNCB7M_o"
      },
      "source": [
        "There is info only about cotton crops, unfortunately."
      ]
    },
    {
      "cell_type": "code",
      "metadata": {
        "colab": {
          "base_uri": "https://localhost:8080/"
        },
        "id": "tbbFtWig7B0t",
        "outputId": "56efa425-4748-4e3a-c95c-354c237f3abd"
      },
      "source": [
        "df.isnull().sum()"
      ],
      "execution_count": 4,
      "outputs": [
        {
          "output_type": "execute_result",
          "data": {
            "text/plain": [
              "crop        0\n",
              "moisture    0\n",
              "temp        0\n",
              "pump        0\n",
              "dtype: int64"
            ]
          },
          "metadata": {},
          "execution_count": 4
        }
      ]
    },
    {
      "cell_type": "markdown",
      "metadata": {
        "id": "iqJ2EDzF7GVv"
      },
      "source": [
        "Dataset is clean, so there is no need to clean it."
      ]
    },
    {
      "cell_type": "code",
      "metadata": {
        "id": "fZxY1k_f7qCf"
      },
      "source": [
        "def plotPerColumnDistribution(df, nGraphShown, nGraphPerRow):\n",
        "    nunique = df.nunique()\n",
        "    df = df[[col for col in df if nunique[col] > 1 and nunique[col] < 50]] # For displaying purposes, pick columns that have between 1 and 50 unique values\n",
        "    nRow, nCol = df.shape\n",
        "    columnNames = list(df)\n",
        "    nGraphRow = (nCol + nGraphPerRow - 1) / nGraphPerRow\n",
        "    plt.figure(num = None, figsize = (6 * nGraphPerRow, 8 * nGraphRow), dpi = 80, facecolor = 'w', edgecolor = 'k')\n",
        "    for i in range(min(nCol, nGraphShown)):\n",
        "        plt.subplot(nGraphRow, nGraphPerRow, i + 1)\n",
        "        columnDf = df.iloc[:, i]\n",
        "        if (not np.issubdtype(type(columnDf.iloc[0]), np.number)):\n",
        "            valueCounts = columnDf.value_counts()\n",
        "            valueCounts.plot.bar()\n",
        "        else:\n",
        "            columnDf.hist()\n",
        "        plt.ylabel('counts')\n",
        "        plt.xticks(rotation = 90)\n",
        "        plt.title(f'{columnNames[i]} (column {i})')\n",
        "    plt.tight_layout(pad = 1.0, w_pad = 1.0, h_pad = 1.0)\n",
        "    plt.show()"
      ],
      "execution_count": 9,
      "outputs": []
    },
    {
      "cell_type": "code",
      "metadata": {
        "colab": {
          "base_uri": "https://localhost:8080/",
          "height": 778
        },
        "id": "qsQPCKZ_7GEV",
        "outputId": "0a9a0c86-066e-479e-d21c-01d2a4daf3c5"
      },
      "source": [
        "plotPerColumnDistribution(df, 10, 5)"
      ],
      "execution_count": 11,
      "outputs": [
        {
          "output_type": "display_data",
          "data": {
            "image/png": "[encoded data removed]",
            "text/plain": [
              "<Figure size 2400x768 with 2 Axes>"
            ]
          },
          "metadata": {}
        }
      ]
    },
    {
      "cell_type": "code",
      "metadata": {
        "colab": {
          "base_uri": "https://localhost:8080/",
          "height": 898
        },
        "id": "yfJXWk1574ra",
        "outputId": "c6687fd4-a180-405c-b64d-c8c06a319934"
      },
      "source": [
        "print(df['temp'].value_counts())\n",
        "sns.countplot(x='temp', data=df, palette='Set2')\n",
        "plt.show()"
      ],
      "execution_count": 12,
      "outputs": [
        {
          "output_type": "stream",
          "name": "stdout",
          "text": [
            "18    9\n",
            "39    9\n",
            "29    9\n",
            "10    8\n",
            "35    7\n",
            "17    7\n",
            "20    7\n",
            "23    7\n",
            "44    7\n",
            "45    7\n",
            "43    7\n",
            "41    6\n",
            "32    6\n",
            "13    6\n",
            "14    6\n",
            "15    6\n",
            "16    6\n",
            "40    6\n",
            "42    6\n",
            "27    5\n",
            "33    5\n",
            "12    5\n",
            "37    5\n",
            "28    5\n",
            "19    4\n",
            "36    4\n",
            "25    4\n",
            "26    4\n",
            "38    4\n",
            "30    4\n",
            "31    4\n",
            "22    4\n",
            "21    3\n",
            "24    3\n",
            "11    3\n",
            "34    2\n",
            "Name: temp, dtype: int64\n"
          ]
        },
        {
          "output_type": "display_data",
          "data": {
            "image/png": "[encoded data removed]",
            "text/plain": [
              "<Figure size 432x288 with 1 Axes>"
            ]
          },
          "metadata": {
            "needs_background": "light"
          }
        }
      ]
    },
    {
      "cell_type": "code",
      "metadata": {
        "colab": {
          "base_uri": "https://localhost:8080/",
          "height": 329
        },
        "id": "IcyO6H9g8HKI",
        "outputId": "b34ec83f-31bc-4dc5-90c7-19746a32be7f"
      },
      "source": [
        "print(df['pump'].value_counts())\n",
        "sns.countplot(x='pump', data=df, palette='Set2')\n",
        "plt.show()"
      ],
      "execution_count": 13,
      "outputs": [
        {
          "output_type": "stream",
          "name": "stdout",
          "text": [
            "1    150\n",
            "0     50\n",
            "Name: pump, dtype: int64\n"
          ]
        },
        {
          "output_type": "display_data",
          "data": {
            "image/png": "[encoded data removed]",
            "text/plain": [
              "<Figure size 432x288 with 1 Axes>"
            ]
          },
          "metadata": {
            "needs_background": "light"
          }
        }
      ]
    },
    {
      "cell_type": "markdown",
      "metadata": {
        "id": "-Mc--05L8Z_i"
      },
      "source": [
        "**Feature** **engineering**"
      ]
    },
    {
      "cell_type": "code",
      "metadata": {
        "colab": {
          "base_uri": "https://localhost:8080/",
          "height": 286
        },
        "id": "5UpjGA0O8MVk",
        "outputId": "5f7bc59f-4f92-4032-8298-62c85f1b233b"
      },
      "source": [
        "correlation_matrix = df.corr().round(2)\n",
        "sns.heatmap(data=correlation_matrix, annot=True)"
      ],
      "execution_count": 15,
      "outputs": [
        {
          "output_type": "execute_result",
          "data": {
            "text/plain": [
              "<matplotlib.axes._subplots.AxesSubplot at 0x7f9500662110>"
            ]
          },
          "metadata": {},
          "execution_count": 15
        },
        {
          "output_type": "display_data",
          "data": {
            "image/png": "[encoded data removed]",
            "text/plain": [
              "<Figure size 432x288 with 2 Axes>"
            ]
          },
          "metadata": {
            "needs_background": "light"
          }
        }
      ]
    },
    {
      "cell_type": "code",
      "metadata": {
        "id": "WuzVFj-39Otl"
      },
      "source": [
        "X = df[['temp', 'moisture']]\n",
        "Y = df['pump']"
      ],
      "execution_count": 16,
      "outputs": []
    },
    {
      "cell_type": "code",
      "metadata": {
        "colab": {
          "base_uri": "https://localhost:8080/"
        },
        "id": "UglfCNv49bUX",
        "outputId": "0f9f9af6-fb93-45ea-b68d-57d29be1cffa"
      },
      "source": [
        "from sklearn.model_selection import train_test_split\n",
        "\n",
        "X_train, X_test, Y_train, Y_test = train_test_split(X, Y, test_size = 0.2, random_state=2)\n",
        "print(X_train.shape)\n",
        "print(X_test.shape)\n",
        "print(Y_train.shape)\n",
        "print(Y_test.shape)"
      ],
      "execution_count": 17,
      "outputs": [
        {
          "output_type": "stream",
          "name": "stdout",
          "text": [
            "(160, 2)\n",
            "(40, 2)\n",
            "(160,)\n",
            "(40,)\n"
          ]
        }
      ]
    },
    {
      "cell_type": "code",
      "metadata": {
        "id": "7zBA0ePN9cep"
      },
      "source": [
        "from sklearn.linear_model import LogisticRegression"
      ],
      "execution_count": 18,
      "outputs": []
    },
    {
      "cell_type": "code",
      "metadata": {
        "id": "NppswXW99eud"
      },
      "source": [
        "log_model = LogisticRegression()"
      ],
      "execution_count": 19,
      "outputs": []
    },
    {
      "cell_type": "code",
      "metadata": {
        "colab": {
          "base_uri": "https://localhost:8080/"
        },
        "id": "KEXRY9Uq9gRh",
        "outputId": "55673cea-7eac-4560-8775-398ca3c670a9"
      },
      "source": [
        "log_model.fit(X_train, Y_train)"
      ],
      "execution_count": 20,
      "outputs": [
        {
          "output_type": "execute_result",
          "data": {
            "text/plain": [
              "LogisticRegression(C=1.0, class_weight=None, dual=False, fit_intercept=True,\n",
              "                   intercept_scaling=1, l1_ratio=None, max_iter=100,\n",
              "                   multi_class='auto', n_jobs=None, penalty='l2',\n",
              "                   random_state=None, solver='lbfgs', tol=0.0001, verbose=0,\n",
              "                   warm_start=False)"
            ]
          },
          "metadata": {},
          "execution_count": 20
        }
      ]
    },
    {
      "cell_type": "code",
      "metadata": {
        "id": "9A-gzxB09i6n"
      },
      "source": [
        "y_train_predict = log_model.predict(X_train)\n",
        "y_test_predict = log_model.predict(X_test)"
      ],
      "execution_count": 21,
      "outputs": []
    },
    {
      "cell_type": "code",
      "metadata": {
        "colab": {
          "base_uri": "https://localhost:8080/"
        },
        "id": "ZF7ysY9f9nom",
        "outputId": "183748a0-e75d-43be-b1e2-6ab5f7782b18"
      },
      "source": [
        "score = log_model.score(X_test, Y_test)\n",
        "print(score)"
      ],
      "execution_count": 22,
      "outputs": [
        {
          "output_type": "stream",
          "name": "stdout",
          "text": [
            "1.0\n"
          ]
        }
      ]
    },
    {
      "cell_type": "code",
      "metadata": {
        "colab": {
          "base_uri": "https://localhost:8080/"
        },
        "id": "DdeTcmER9sM_",
        "outputId": "1fa4481e-7d3c-4e62-88eb-94a85657c0eb"
      },
      "source": [
        "print(log_model.predict([[100, 45]]))"
      ],
      "execution_count": 36,
      "outputs": [
        {
          "output_type": "stream",
          "name": "stdout",
          "text": [
            "[0]\n"
          ]
        }
      ]
    }
  ]
}